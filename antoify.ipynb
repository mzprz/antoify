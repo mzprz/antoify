{
 "cells": [
  {
   "cell_type": "code",
   "execution_count": 16,
   "metadata": {},
   "outputs": [],
   "source": [
    "import numpy as np"
   ]
  },
  {
   "cell_type": "code",
   "execution_count": 3,
   "metadata": {},
   "outputs": [],
   "source": [
    "text = \"halo semua Apa Kabar pack?\""
   ]
  },
  {
   "cell_type": "code",
   "execution_count": 6,
   "metadata": {},
   "outputs": [],
   "source": [
    "text = text.lower()"
   ]
  },
  {
   "cell_type": "code",
   "execution_count": 241,
   "metadata": {},
   "outputs": [
    {
     "data": {
      "text/plain": [
       "['halo', 'semua', 'apa', 'kabar', 'pack?']"
      ]
     },
     "execution_count": 241,
     "metadata": {},
     "output_type": "execute_result"
    }
   ],
   "source": [
    "text_bin = text.split(\" \")\n",
    "text_bin"
   ]
  },
  {
   "cell_type": "code",
   "execution_count": 265,
   "metadata": {},
   "outputs": [
    {
     "data": {
      "text/plain": [
       "'HALO SEMUA APA KABAR PACK?'"
      ]
     },
     "execution_count": 265,
     "metadata": {},
     "output_type": "execute_result"
    }
   ],
   "source": [
    "for i in range(len(text_bin)):\n",
    "    word = text_bin[i]\n",
    "    l = len(word) # char lenght of a word\n",
    "    n = np.random.randint(1,l-1) # total random char per word\n",
    "    pos = np.random.choice(np.linspace(0,l-1, num=l), size=n)\n",
    "    pos.sort()\n",
    "    strq = word\n",
    "    for q in pos:\n",
    "        q = int(q)\n",
    "        strq = strq[:q] + strq[q].upper() + strq[q+1:]\n",
    "    text_bin[i] = strq\n",
    "    \n",
    "sep = \" \"\n",
    "sep.join(text_bin)"
   ]
  },
  {
   "cell_type": "code",
   "execution_count": null,
   "metadata": {},
   "outputs": [],
   "source": []
  }
 ],
 "metadata": {
  "kernelspec": {
   "display_name": "Python 3",
   "language": "python",
   "name": "python3"
  },
  "language_info": {
   "codemirror_mode": {
    "name": "ipython",
    "version": 3
   },
   "file_extension": ".py",
   "mimetype": "text/x-python",
   "name": "python",
   "nbconvert_exporter": "python",
   "pygments_lexer": "ipython3",
   "version": "3.8.3"
  }
 },
 "nbformat": 4,
 "nbformat_minor": 4
}
